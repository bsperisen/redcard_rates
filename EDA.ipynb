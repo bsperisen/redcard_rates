{
 "cells": [
  {
   "cell_type": "markdown",
   "metadata": {},
   "source": [
    "Redcard Prediction\n",
    "\n",
    "In this data challenge we are going to analyze a dataset that comes from a fascinating paper published with commentary in Nature. The core question of the paper is reflected in the title, “Many analysts, one dataset: Making transparent how variations in analytical choices affect results”. The authors recruited around 30 analytic teams who were each tasked with the same research question: “Are soccer referees more likely to give red cards to dark skin toned players than light skin toned players?” and given the same data. The dataset came from the players who played in the 2012–13 European football (soccer) professional leagues. Data about the players’ ages, heights, weights, position, skintone rating, and more were included. The results from the teams were then compared to see how the different ways of looking at the dataset yielded different statistical conclusions. Explore the data and try to answer the posed question."
   ]
  },
  {
   "cell_type": "code",
   "execution_count": 9,
   "metadata": {},
   "outputs": [],
   "source": [
    "import pandas as pd\n",
    "from matplotlib import pyplot as plt\n",
    "import numpy as np"
   ]
  },
  {
   "cell_type": "code",
   "execution_count": 6,
   "metadata": {},
   "outputs": [],
   "source": [
    "redcard = pd.read_csv('redcard.csv')"
   ]
  },
  {
   "cell_type": "code",
   "execution_count": 8,
   "metadata": {},
   "outputs": [
    {
     "name": "stdout",
     "output_type": "stream",
     "text": [
      "<class 'pandas.core.frame.DataFrame'>\n",
      "RangeIndex: 146028 entries, 0 to 146027\n",
      "Data columns (total 28 columns):\n",
      "playerShort      146028 non-null object\n",
      "player           146028 non-null object\n",
      "club             146028 non-null object\n",
      "leagueCountry    146028 non-null object\n",
      "birthday         146028 non-null object\n",
      "height           145765 non-null float64\n",
      "weight           143785 non-null float64\n",
      "position         128302 non-null object\n",
      "games            146028 non-null int64\n",
      "victories        146028 non-null int64\n",
      "ties             146028 non-null int64\n",
      "defeats          146028 non-null int64\n",
      "goals            146028 non-null int64\n",
      "yellowCards      146028 non-null int64\n",
      "yellowReds       146028 non-null int64\n",
      "redCards         146028 non-null int64\n",
      "photoID          124621 non-null object\n",
      "rater1           124621 non-null float64\n",
      "rater2           124621 non-null float64\n",
      "refNum           146028 non-null int64\n",
      "refCountry       146028 non-null int64\n",
      "Alpha_3          146027 non-null object\n",
      "meanIAT          145865 non-null float64\n",
      "nIAT             145865 non-null float64\n",
      "seIAT            145865 non-null float64\n",
      "meanExp          145865 non-null float64\n",
      "nExp             145865 non-null float64\n",
      "seExp            145865 non-null float64\n",
      "dtypes: float64(10), int64(10), object(8)\n",
      "memory usage: 31.2+ MB\n"
     ]
    }
   ],
   "source": [
    "redcard.info()"
   ]
  },
  {
   "cell_type": "code",
   "execution_count": null,
   "metadata": {},
   "outputs": [],
   "source": []
  }
 ],
 "metadata": {
  "kernelspec": {
   "display_name": "Python 3",
   "language": "python",
   "name": "python3"
  },
  "language_info": {
   "codemirror_mode": {
    "name": "ipython",
    "version": 3
   },
   "file_extension": ".py",
   "mimetype": "text/x-python",
   "name": "python",
   "nbconvert_exporter": "python",
   "pygments_lexer": "ipython3",
   "version": "3.6.5"
  }
 },
 "nbformat": 4,
 "nbformat_minor": 2
}
